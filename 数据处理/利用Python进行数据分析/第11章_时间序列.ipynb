{
 "cells": [
  {
   "cell_type": "markdown",
   "metadata": {},
   "source": [
    "# 时间序列"
   ]
  },
  {
   "cell_type": "markdown",
   "metadata": {},
   "source": [
    "## datetime模块\n",
    "* date : 使用公历日历存储日期(年月日)\n",
    "* time : 将时间存储为小时，分钟，秒和微秒\n",
    "* datetime : 存储日期和时间\n",
    "* timedelta : 表示两个datetime值之间的差\n",
    "* tzinfo : 用于存储时区信息\n",
    "```python\n",
    "Init signature: datetime(self, /, *args, **kwargs)\n",
    "Docstring:     \n",
    "datetime(year, month, day[, hour[, minute[, second[, microsecond[,tzinfo]]]]])\n",
    "```"
   ]
  },
  {
   "cell_type": "code",
   "execution_count": 2,
   "metadata": {},
   "outputs": [
    {
     "data": {
      "text/plain": [
       "datetime.datetime(2019, 5, 21, 14, 35, 51, 297095)"
      ]
     },
     "execution_count": 2,
     "metadata": {},
     "output_type": "execute_result"
    }
   ],
   "source": [
    "import numpy as np\n",
    "import pandas as pd\n",
    "from datetime import datetime,time,date,timedelta,tzinfo\n",
    "now = datetime.now()\n",
    "now"
   ]
  },
  {
   "cell_type": "code",
   "execution_count": 4,
   "metadata": {},
   "outputs": [
    {
     "data": {
      "text/plain": [
       "(2019, 5, 21)"
      ]
     },
     "execution_count": 4,
     "metadata": {},
     "output_type": "execute_result"
    }
   ],
   "source": [
    "now.year,now.month,now.day"
   ]
  },
  {
   "cell_type": "code",
   "execution_count": 5,
   "metadata": {},
   "outputs": [
    {
     "data": {
      "text/plain": [
       "datetime.timedelta(days=926, seconds=56700)"
      ]
     },
     "execution_count": 5,
     "metadata": {},
     "output_type": "execute_result"
    }
   ],
   "source": [
    "delta = datetime(2011,1,7) - datetime(2008,6,24,8,15)\n",
    "delta"
   ]
  },
  {
   "cell_type": "code",
   "execution_count": 6,
   "metadata": {},
   "outputs": [
    {
     "data": {
      "text/plain": [
       "datetime.datetime(2011, 1, 19, 0, 0)"
      ]
     },
     "execution_count": 6,
     "metadata": {},
     "output_type": "execute_result"
    }
   ],
   "source": [
    "#两个时间对象相减\n",
    "start = datetime(2011,1,7)\n",
    "start + timedelta(12)"
   ]
  },
  {
   "cell_type": "code",
   "execution_count": 7,
   "metadata": {},
   "outputs": [
    {
     "data": {
      "text/plain": [
       "datetime.datetime(2011, 1, 31, 0, 0)"
      ]
     },
     "execution_count": 7,
     "metadata": {},
     "output_type": "execute_result"
    }
   ],
   "source": [
    "start + 2*timedelta(12)"
   ]
  },
  {
   "cell_type": "code",
   "execution_count": 8,
   "metadata": {},
   "outputs": [
    {
     "data": {
      "text/plain": [
       "'2011-01-03 00:00:00'"
      ]
     },
     "execution_count": 8,
     "metadata": {},
     "output_type": "execute_result"
    }
   ],
   "source": [
    "#字符串与datetime的转换\n",
    "#使用str方法或者传递指定格式给strftime\n",
    "stamp = datetime(2011,1,3)\n",
    "str(stamp)"
   ]
  },
  {
   "cell_type": "code",
   "execution_count": 9,
   "metadata": {},
   "outputs": [
    {
     "data": {
      "text/plain": [
       "'2011-01-03'"
      ]
     },
     "execution_count": 9,
     "metadata": {},
     "output_type": "execute_result"
    }
   ],
   "source": [
    "stamp.strftime('%Y-%m-%d')"
   ]
  },
  {
   "cell_type": "markdown",
   "metadata": {},
   "source": [
    "```python\n",
    "'''\n",
    "datetime日期格式\n",
    "%Y:四位数年份，%y:两位数年份，%m:两位数月份，%d:两位数日期\n",
    "%H：小时，24小时制，%I：小时，12小时制，%S：两位数分钟\n",
    "%S:秒，%w:星期[0(星期天),6]\n",
    "%U:一年中的星期数[00,53].以星期天为每周的第一天\n",
    "%W:一年中的星期数[00,53].以星期一为每周的第一天\n",
    "%F:'%Y-%m-%d'简写\n",
    "%D:'%m/%d/%y'简写\n",
    "'''\n",
    "```"
   ]
  },
  {
   "cell_type": "code",
   "execution_count": 10,
   "metadata": {},
   "outputs": [
    {
     "data": {
      "text/plain": [
       "datetime.datetime(2011, 1, 3, 0, 0)"
      ]
     },
     "execution_count": 10,
     "metadata": {},
     "output_type": "execute_result"
    }
   ],
   "source": [
    "#使用strptime和这些格式代码将字符串转换为日期\n",
    "value = '2011-01-03'\n",
    "datetime.strptime(value,'%Y-%m-%d')"
   ]
  },
  {
   "cell_type": "code",
   "execution_count": 11,
   "metadata": {},
   "outputs": [
    {
     "data": {
      "text/plain": [
       "[datetime.datetime(2011, 7, 6, 0, 0), datetime.datetime(2011, 8, 6, 0, 0)]"
      ]
     },
     "execution_count": 11,
     "metadata": {},
     "output_type": "execute_result"
    }
   ],
   "source": [
    "datestrs = ['7/6/2011','8/6/2011']\n",
    "[datetime.strptime(x,'%m/%d/%Y') for x in datestrs]"
   ]
  },
  {
   "cell_type": "code",
   "execution_count": 12,
   "metadata": {},
   "outputs": [
    {
     "data": {
      "text/plain": [
       "datetime.datetime(2011, 1, 3, 0, 0)"
      ]
     },
     "execution_count": 12,
     "metadata": {},
     "output_type": "execute_result"
    }
   ],
   "source": [
    "#在日期格式未知的情况下使用通用日期格式包:dateutil.parser.parse\n",
    "from dateutil.parser import parse\n",
    "parse('2011-01-03')"
   ]
  },
  {
   "cell_type": "code",
   "execution_count": 13,
   "metadata": {},
   "outputs": [
    {
     "data": {
      "text/plain": [
       "datetime.datetime(2019, 1, 31, 22, 45)"
      ]
     },
     "execution_count": 13,
     "metadata": {},
     "output_type": "execute_result"
    }
   ],
   "source": [
    "parse('Jan 31,1997 10:45 PM')"
   ]
  },
  {
   "cell_type": "code",
   "execution_count": 14,
   "metadata": {},
   "outputs": [
    {
     "data": {
      "text/plain": [
       "datetime.datetime(2011, 12, 6, 0, 0)"
      ]
     },
     "execution_count": 14,
     "metadata": {},
     "output_type": "execute_result"
    }
   ],
   "source": [
    "#设定日期在月份前面\n",
    "parse('6/12/2011',dayfirst=True)"
   ]
  },
  {
   "cell_type": "code",
   "execution_count": 15,
   "metadata": {},
   "outputs": [
    {
     "data": {
      "text/plain": [
       "DatetimeIndex(['2011-07-06 12:00:00', '2011-08-06 00:00:00'], dtype='datetime64[ns]', freq=None)"
      ]
     },
     "execution_count": 15,
     "metadata": {},
     "output_type": "execute_result"
    }
   ],
   "source": [
    "#pandas 的to_datetime方法\n",
    "datestrs = ['2011-07-06 12:00:00','2011-08-06 00:00:00']\n",
    "pd.to_datetime(datestrs)"
   ]
  },
  {
   "cell_type": "code",
   "execution_count": 16,
   "metadata": {},
   "outputs": [
    {
     "data": {
      "text/plain": [
       "DatetimeIndex(['2011-07-06 12:00:00', '2011-08-06 00:00:00', 'NaT'], dtype='datetime64[ns]', freq=None)"
      ]
     },
     "execution_count": 16,
     "metadata": {},
     "output_type": "execute_result"
    }
   ],
   "source": [
    "#可以处理那些被认为是缺失值的值\n",
    "idx = pd.to_datetime(datestrs+[None])\n",
    "idx"
   ]
  },
  {
   "cell_type": "code",
   "execution_count": 17,
   "metadata": {},
   "outputs": [
    {
     "data": {
      "text/plain": [
       "NaT"
      ]
     },
     "execution_count": 17,
     "metadata": {},
     "output_type": "execute_result"
    }
   ],
   "source": [
    "idx[2]  #NaT:not a time"
   ]
  },
  {
   "cell_type": "code",
   "execution_count": 18,
   "metadata": {},
   "outputs": [
    {
     "data": {
      "text/plain": [
       "2011-01-02    1.590882\n",
       "2011-01-05    0.293739\n",
       "2011-01-07   -0.376594\n",
       "2011-01-08    0.200787\n",
       "2011-01-10   -1.094345\n",
       "2011-01-12    0.072083\n",
       "dtype: float64"
      ]
     },
     "execution_count": 18,
     "metadata": {},
     "output_type": "execute_result"
    }
   ],
   "source": [
    "dates = [datetime(2011,1,2),datetime(2011,1,5),\n",
    "         datetime(2011,1,7),datetime(2011,1,8),\n",
    "         datetime(2011,1,10),datetime(2011,1,12)]\n",
    "ts = pd.Series(np.random.randn(6),index=dates)\n",
    "ts"
   ]
  },
  {
   "cell_type": "code",
   "execution_count": 19,
   "metadata": {},
   "outputs": [
    {
     "data": {
      "text/plain": [
       "DatetimeIndex(['2011-01-02', '2011-01-05', '2011-01-07', '2011-01-08',\n",
       "               '2011-01-10', '2011-01-12'],\n",
       "              dtype='datetime64[ns]', freq=None)"
      ]
     },
     "execution_count": 19,
     "metadata": {},
     "output_type": "execute_result"
    }
   ],
   "source": [
    "ts.index"
   ]
  },
  {
   "cell_type": "code",
   "execution_count": 20,
   "metadata": {},
   "outputs": [
    {
     "data": {
      "text/plain": [
       "2011-01-02    3.181764\n",
       "2011-01-05         NaN\n",
       "2011-01-07   -0.753188\n",
       "2011-01-08         NaN\n",
       "2011-01-10   -2.188690\n",
       "2011-01-12         NaN\n",
       "dtype: float64"
      ]
     },
     "execution_count": 20,
     "metadata": {},
     "output_type": "execute_result"
    }
   ],
   "source": [
    "ts+ts[::2]"
   ]
  },
  {
   "cell_type": "code",
   "execution_count": 21,
   "metadata": {},
   "outputs": [
    {
     "data": {
      "text/plain": [
       "-0.376594108099935"
      ]
     },
     "execution_count": 21,
     "metadata": {},
     "output_type": "execute_result"
    }
   ],
   "source": [
    "#索引\n",
    "stamp = ts.index[2]\n",
    "ts[stamp]"
   ]
  },
  {
   "cell_type": "code",
   "execution_count": 22,
   "metadata": {},
   "outputs": [
    {
     "data": {
      "text/plain": [
       "-1.0943452106948375"
      ]
     },
     "execution_count": 22,
     "metadata": {},
     "output_type": "execute_result"
    }
   ],
   "source": [
    "#可以传递一个能解释为日期的字符串\n",
    "ts['1/10/2011']"
   ]
  },
  {
   "cell_type": "code",
   "execution_count": 23,
   "metadata": {},
   "outputs": [
    {
     "data": {
      "text/plain": [
       "-1.0943452106948375"
      ]
     },
     "execution_count": 23,
     "metadata": {},
     "output_type": "execute_result"
    }
   ],
   "source": [
    "ts['20110110']"
   ]
  },
  {
   "cell_type": "code",
   "execution_count": 24,
   "metadata": {},
   "outputs": [
    {
     "data": {
      "text/plain": [
       "2000-01-01    0.490298\n",
       "2000-01-02   -1.451051\n",
       "2000-01-03   -0.097972\n",
       "2000-01-04    1.002408\n",
       "2000-01-05    0.294136\n",
       "2000-01-06   -1.015983\n",
       "2000-01-07    0.546301\n",
       "2000-01-08   -1.071046\n",
       "2000-01-09    0.985784\n",
       "2000-01-10    1.135240\n",
       "2000-01-11    0.166953\n",
       "2000-01-12    0.973242\n",
       "2000-01-13    0.590771\n",
       "2000-01-14    0.913143\n",
       "2000-01-15    0.320999\n",
       "2000-01-16    1.028359\n",
       "2000-01-17    0.777883\n",
       "2000-01-18   -0.338818\n",
       "2000-01-19   -0.240021\n",
       "2000-01-20    0.355954\n",
       "2000-01-21   -0.867734\n",
       "2000-01-22   -0.172236\n",
       "2000-01-23    0.397123\n",
       "2000-01-24    0.187197\n",
       "2000-01-25   -1.310630\n",
       "2000-01-26    0.805898\n",
       "2000-01-27    1.189346\n",
       "2000-01-28   -0.628942\n",
       "2000-01-29    0.203885\n",
       "2000-01-30    0.419981\n",
       "                ...   \n",
       "2002-08-28    0.938789\n",
       "2002-08-29   -0.034991\n",
       "2002-08-30    0.727823\n",
       "2002-08-31   -0.055238\n",
       "2002-09-01    1.380203\n",
       "2002-09-02   -0.062987\n",
       "2002-09-03    0.394097\n",
       "2002-09-04   -0.440822\n",
       "2002-09-05    0.411463\n",
       "2002-09-06   -0.322269\n",
       "2002-09-07    0.572930\n",
       "2002-09-08   -0.921021\n",
       "2002-09-09   -0.929485\n",
       "2002-09-10   -1.332927\n",
       "2002-09-11   -0.313558\n",
       "2002-09-12    0.461287\n",
       "2002-09-13   -0.054156\n",
       "2002-09-14    1.088964\n",
       "2002-09-15   -0.395038\n",
       "2002-09-16   -1.744797\n",
       "2002-09-17   -0.219794\n",
       "2002-09-18    0.541992\n",
       "2002-09-19   -1.028627\n",
       "2002-09-20    1.371822\n",
       "2002-09-21    0.760264\n",
       "2002-09-22    0.952667\n",
       "2002-09-23   -0.122636\n",
       "2002-09-24    1.091305\n",
       "2002-09-25   -1.940945\n",
       "2002-09-26    1.658561\n",
       "Freq: D, Length: 1000, dtype: float64"
      ]
     },
     "execution_count": 24,
     "metadata": {},
     "output_type": "execute_result"
    }
   ],
   "source": [
    "#对于长序列，可以传递月份或年份进行切片\n",
    "longer_ts = pd.Series(np.random.randn(1000),\n",
    "                      index=pd.date_range('1/1/2000',periods=1000))\n",
    "longer_ts"
   ]
  },
  {
   "cell_type": "code",
   "execution_count": 25,
   "metadata": {},
   "outputs": [
    {
     "data": {
      "text/plain": [
       "2001-01-01    0.220091\n",
       "2001-01-02    1.004451\n",
       "2001-01-03   -0.231612\n",
       "2001-01-04    1.755837\n",
       "2001-01-05   -2.258935\n",
       "2001-01-06   -1.599820\n",
       "2001-01-07    0.210828\n",
       "2001-01-08   -0.972516\n",
       "2001-01-09    1.304141\n",
       "2001-01-10    0.038088\n",
       "2001-01-11    0.009357\n",
       "2001-01-12    0.013117\n",
       "2001-01-13    1.653693\n",
       "2001-01-14   -1.848564\n",
       "2001-01-15    1.615503\n",
       "2001-01-16   -0.349181\n",
       "2001-01-17   -1.614842\n",
       "2001-01-18   -1.934180\n",
       "2001-01-19    0.036273\n",
       "2001-01-20    0.823846\n",
       "2001-01-21   -1.234619\n",
       "2001-01-22   -1.784253\n",
       "2001-01-23   -1.153051\n",
       "2001-01-24   -1.404875\n",
       "2001-01-25   -0.583528\n",
       "2001-01-26    0.246198\n",
       "2001-01-27   -1.503886\n",
       "2001-01-28   -1.226544\n",
       "2001-01-29   -1.775197\n",
       "2001-01-30   -1.447913\n",
       "                ...   \n",
       "2001-12-02    1.616695\n",
       "2001-12-03    0.569294\n",
       "2001-12-04    0.288881\n",
       "2001-12-05   -0.188730\n",
       "2001-12-06   -1.046840\n",
       "2001-12-07   -1.453369\n",
       "2001-12-08   -0.818708\n",
       "2001-12-09   -1.538459\n",
       "2001-12-10   -0.945815\n",
       "2001-12-11    1.426239\n",
       "2001-12-12   -2.327203\n",
       "2001-12-13   -1.113473\n",
       "2001-12-14   -1.015790\n",
       "2001-12-15    1.559282\n",
       "2001-12-16   -0.075546\n",
       "2001-12-17   -0.946779\n",
       "2001-12-18   -0.331119\n",
       "2001-12-19   -0.920141\n",
       "2001-12-20    1.043883\n",
       "2001-12-21   -0.818130\n",
       "2001-12-22    1.367919\n",
       "2001-12-23   -0.535659\n",
       "2001-12-24   -1.400561\n",
       "2001-12-25    1.512044\n",
       "2001-12-26   -0.855380\n",
       "2001-12-27    1.798102\n",
       "2001-12-28   -2.596277\n",
       "2001-12-29   -1.076132\n",
       "2001-12-30    0.308488\n",
       "2001-12-31   -0.585268\n",
       "Freq: D, Length: 365, dtype: float64"
      ]
     },
     "execution_count": 25,
     "metadata": {},
     "output_type": "execute_result"
    }
   ],
   "source": [
    "#选取出2001年的数据\n",
    "longer_ts['2001']"
   ]
  },
  {
   "cell_type": "code",
   "execution_count": 26,
   "metadata": {},
   "outputs": [
    {
     "data": {
      "text/plain": [
       "2001-05-01    0.703128\n",
       "2001-05-02   -0.539083\n",
       "2001-05-03   -0.109045\n",
       "2001-05-04   -2.317606\n",
       "2001-05-05   -0.532049\n",
       "2001-05-06   -0.479223\n",
       "2001-05-07    2.070662\n",
       "2001-05-08   -1.167957\n",
       "2001-05-09    0.358517\n",
       "2001-05-10    2.111740\n",
       "2001-05-11   -0.075948\n",
       "2001-05-12    0.940103\n",
       "2001-05-13    0.251248\n",
       "2001-05-14    0.256404\n",
       "2001-05-15    1.162487\n",
       "2001-05-16   -0.096129\n",
       "2001-05-17    0.186772\n",
       "2001-05-18    0.307131\n",
       "2001-05-19    0.044471\n",
       "2001-05-20   -0.195603\n",
       "2001-05-21    0.063804\n",
       "2001-05-22   -1.029553\n",
       "2001-05-23   -0.831507\n",
       "2001-05-24    0.931212\n",
       "2001-05-25    0.359474\n",
       "2001-05-26   -1.326787\n",
       "2001-05-27   -1.844889\n",
       "2001-05-28    2.126957\n",
       "2001-05-29   -0.895577\n",
       "2001-05-30    0.567420\n",
       "2001-05-31   -2.378856\n",
       "Freq: D, dtype: float64"
      ]
     },
     "execution_count": 26,
     "metadata": {},
     "output_type": "execute_result"
    }
   ],
   "source": [
    "#选取出2001年5月的数据\n",
    "longer_ts['2001-05']"
   ]
  },
  {
   "cell_type": "code",
   "execution_count": 27,
   "metadata": {},
   "outputs": [
    {
     "data": {
      "text/plain": [
       "2001-05-01    0.703128\n",
       "2001-05-02   -0.539083\n",
       "2001-05-03   -0.109045\n",
       "2001-05-04   -2.317606\n",
       "2001-05-05   -0.532049\n",
       "2001-05-06   -0.479223\n",
       "2001-05-07    2.070662\n",
       "2001-05-08   -1.167957\n",
       "2001-05-09    0.358517\n",
       "2001-05-10    2.111740\n",
       "2001-05-11   -0.075948\n",
       "2001-05-12    0.940103\n",
       "2001-05-13    0.251248\n",
       "2001-05-14    0.256404\n",
       "2001-05-15    1.162487\n",
       "2001-05-16   -0.096129\n",
       "2001-05-17    0.186772\n",
       "2001-05-18    0.307131\n",
       "2001-05-19    0.044471\n",
       "2001-05-20   -0.195603\n",
       "2001-05-21    0.063804\n",
       "Freq: D, dtype: float64"
      ]
     },
     "execution_count": 27,
     "metadata": {},
     "output_type": "execute_result"
    }
   ],
   "source": [
    "#使用datetime对象进行切片\n",
    "longer_ts[datetime(2001,5,1):datetime(2001,5,21)]"
   ]
  },
  {
   "cell_type": "code",
   "execution_count": 28,
   "metadata": {},
   "outputs": [
    {
     "name": "stdout",
     "output_type": "stream",
     "text": [
      "2011-01-02    1.590882\n",
      "2011-01-05    0.293739\n",
      "2011-01-07   -0.376594\n",
      "2011-01-08    0.200787\n",
      "2011-01-10   -1.094345\n",
      "2011-01-12    0.072083\n",
      "dtype: float64\n"
     ]
    },
    {
     "data": {
      "text/plain": [
       "2011-01-02    1.590882\n",
       "2011-01-05    0.293739\n",
       "2011-01-07   -0.376594\n",
       "2011-01-08    0.200787\n",
       "dtype: float64"
      ]
     },
     "execution_count": 28,
     "metadata": {},
     "output_type": "execute_result"
    }
   ],
   "source": [
    "print(ts)\n",
    "ts.truncate(after='1/9/2011')"
   ]
  },
  {
   "cell_type": "code",
   "execution_count": 29,
   "metadata": {},
   "outputs": [
    {
     "data": {
      "text/plain": [
       "2011-01-10   -1.094345\n",
       "2011-01-12    0.072083\n",
       "dtype: float64"
      ]
     },
     "execution_count": 29,
     "metadata": {},
     "output_type": "execute_result"
    }
   ],
   "source": [
    "ts.truncate(before='1/9/2011')"
   ]
  },
  {
   "cell_type": "code",
   "execution_count": 30,
   "metadata": {},
   "outputs": [
    {
     "data": {
      "text/html": [
       "<div>\n",
       "<style scoped>\n",
       "    .dataframe tbody tr th:only-of-type {\n",
       "        vertical-align: middle;\n",
       "    }\n",
       "\n",
       "    .dataframe tbody tr th {\n",
       "        vertical-align: top;\n",
       "    }\n",
       "\n",
       "    .dataframe thead th {\n",
       "        text-align: right;\n",
       "    }\n",
       "</style>\n",
       "<table border=\"1\" class=\"dataframe\">\n",
       "  <thead>\n",
       "    <tr style=\"text-align: right;\">\n",
       "      <th></th>\n",
       "      <th>Colorado</th>\n",
       "      <th>Texas</th>\n",
       "      <th>New York</th>\n",
       "      <th>Ohio</th>\n",
       "    </tr>\n",
       "  </thead>\n",
       "  <tbody>\n",
       "    <tr>\n",
       "      <th>2001-05-02</th>\n",
       "      <td>1.330483</td>\n",
       "      <td>0.067233</td>\n",
       "      <td>0.211900</td>\n",
       "      <td>-0.620026</td>\n",
       "    </tr>\n",
       "    <tr>\n",
       "      <th>2001-05-09</th>\n",
       "      <td>-1.024658</td>\n",
       "      <td>1.016194</td>\n",
       "      <td>0.203375</td>\n",
       "      <td>-0.357533</td>\n",
       "    </tr>\n",
       "    <tr>\n",
       "      <th>2001-05-16</th>\n",
       "      <td>0.051472</td>\n",
       "      <td>1.809053</td>\n",
       "      <td>0.381848</td>\n",
       "      <td>-0.648996</td>\n",
       "    </tr>\n",
       "    <tr>\n",
       "      <th>2001-05-23</th>\n",
       "      <td>-0.563289</td>\n",
       "      <td>-0.165642</td>\n",
       "      <td>-0.477389</td>\n",
       "      <td>-1.484868</td>\n",
       "    </tr>\n",
       "    <tr>\n",
       "      <th>2001-05-30</th>\n",
       "      <td>-0.285290</td>\n",
       "      <td>0.043215</td>\n",
       "      <td>1.722967</td>\n",
       "      <td>-0.033804</td>\n",
       "    </tr>\n",
       "  </tbody>\n",
       "</table>\n",
       "</div>"
      ],
      "text/plain": [
       "            Colorado     Texas  New York      Ohio\n",
       "2001-05-02  1.330483  0.067233  0.211900 -0.620026\n",
       "2001-05-09 -1.024658  1.016194  0.203375 -0.357533\n",
       "2001-05-16  0.051472  1.809053  0.381848 -0.648996\n",
       "2001-05-23 -0.563289 -0.165642 -0.477389 -1.484868\n",
       "2001-05-30 -0.285290  0.043215  1.722967 -0.033804"
      ]
     },
     "execution_count": 30,
     "metadata": {},
     "output_type": "execute_result"
    }
   ],
   "source": [
    "dates = pd.date_range('1/1/2000',periods=100,freq='W-WED')\n",
    "long_df = pd.DataFrame(np.random.randn(100,4),index=dates,\n",
    "                       columns=['Colorado','Texas','New York','Ohio'])\n",
    "#选取2001年5月的数据\n",
    "long_df.loc['2001-5']"
   ]
  },
  {
   "cell_type": "code",
   "execution_count": 31,
   "metadata": {},
   "outputs": [
    {
     "data": {
      "text/plain": [
       "2000-01-01    0\n",
       "2000-01-02    1\n",
       "2000-01-02    2\n",
       "2000-01-02    3\n",
       "2000-01-03    4\n",
       "dtype: int32"
      ]
     },
     "execution_count": 31,
     "metadata": {},
     "output_type": "execute_result"
    }
   ],
   "source": [
    "#含有重复索引的时间序列\n",
    "dates = pd.DatetimeIndex(['1/1/2000','1/2/2000','1/2/2000','1/2/2000','1/3/2000'])\n",
    "dup_ts = pd.Series(np.arange(5),index=dates)\n",
    "dup_ts"
   ]
  },
  {
   "cell_type": "code",
   "execution_count": 32,
   "metadata": {},
   "outputs": [
    {
     "data": {
      "text/plain": [
       "False"
      ]
     },
     "execution_count": 32,
     "metadata": {},
     "output_type": "execute_result"
    }
   ],
   "source": [
    "#查看索引是否唯一\n",
    "dup_ts.index.is_unique"
   ]
  },
  {
   "cell_type": "code",
   "execution_count": 33,
   "metadata": {},
   "outputs": [
    {
     "data": {
      "text/plain": [
       "2000-01-01    1\n",
       "2000-01-02    3\n",
       "2000-01-03    1\n",
       "dtype: int64"
      ]
     },
     "execution_count": 33,
     "metadata": {},
     "output_type": "execute_result"
    }
   ],
   "source": [
    "#聚合非唯一时间戳数据，使用groupby传递level=0\n",
    "grouped = dup_ts.groupby(level=0)\n",
    "grouped.count()"
   ]
  },
  {
   "cell_type": "code",
   "execution_count": 34,
   "metadata": {},
   "outputs": [
    {
     "data": {
      "text/plain": [
       "2011-01-02    1.590882\n",
       "2011-01-05    0.293739\n",
       "2011-01-07   -0.376594\n",
       "2011-01-08    0.200787\n",
       "2011-01-10   -1.094345\n",
       "2011-01-12    0.072083\n",
       "dtype: float64"
      ]
     },
     "execution_count": 34,
     "metadata": {},
     "output_type": "execute_result"
    }
   ],
   "source": [
    "ts"
   ]
  },
  {
   "cell_type": "code",
   "execution_count": 38,
   "metadata": {},
   "outputs": [
    {
     "data": {
      "text/plain": [
       "DatetimeIndexResampler [freq=<Day>, axis=0, closed=left, label=left, convention=start, base=0]"
      ]
     },
     "execution_count": 38,
     "metadata": {},
     "output_type": "execute_result"
    }
   ],
   "source": [
    "#使用resample方法将时间序列转换成固定的每日频率数据\n",
    "resampler = ts.resample('D')\n",
    "resampler"
   ]
  },
  {
   "cell_type": "markdown",
   "metadata": {},
   "source": [
    "### 生成日期范围\n",
    "```python\n",
    "Signature:\n",
    "pd.date_range(\n",
    "    ['start=None', 'end=None', 'periods=None', 'freq=None', 'tz=None', 'normalize=False', 'name=None', 'closed=None', '**kwargs'],\n",
    ")\n",
    "```"
   ]
  },
  {
   "cell_type": "code",
   "execution_count": 40,
   "metadata": {},
   "outputs": [
    {
     "data": {
      "text/plain": [
       "DatetimeIndex(['2012-04-01', '2012-04-02', '2012-04-03', '2012-04-04',\n",
       "               '2012-04-05', '2012-04-06', '2012-04-07', '2012-04-08',\n",
       "               '2012-04-09', '2012-04-10', '2012-04-11', '2012-04-12',\n",
       "               '2012-04-13', '2012-04-14', '2012-04-15', '2012-04-16',\n",
       "               '2012-04-17', '2012-04-18', '2012-04-19', '2012-04-20',\n",
       "               '2012-04-21', '2012-04-22', '2012-04-23', '2012-04-24',\n",
       "               '2012-04-25', '2012-04-26', '2012-04-27', '2012-04-28',\n",
       "               '2012-04-29', '2012-04-30', '2012-05-01', '2012-05-02',\n",
       "               '2012-05-03', '2012-05-04', '2012-05-05', '2012-05-06',\n",
       "               '2012-05-07', '2012-05-08', '2012-05-09', '2012-05-10',\n",
       "               '2012-05-11', '2012-05-12', '2012-05-13', '2012-05-14',\n",
       "               '2012-05-15', '2012-05-16', '2012-05-17', '2012-05-18',\n",
       "               '2012-05-19', '2012-05-20', '2012-05-21', '2012-05-22',\n",
       "               '2012-05-23', '2012-05-24', '2012-05-25', '2012-05-26',\n",
       "               '2012-05-27', '2012-05-28', '2012-05-29', '2012-05-30',\n",
       "               '2012-05-31', '2012-06-01'],\n",
       "              dtype='datetime64[ns]', freq='D')"
      ]
     },
     "execution_count": 40,
     "metadata": {},
     "output_type": "execute_result"
    }
   ],
   "source": [
    "#date_range()：生成日期范围\n",
    "index = pd.date_range('2012-04-01','2012-06-01')\n",
    "index"
   ]
  },
  {
   "cell_type": "markdown",
   "metadata": {},
   "source": [
    "#### periods : 控制时间跨度"
   ]
  },
  {
   "cell_type": "code",
   "execution_count": 42,
   "metadata": {},
   "outputs": [
    {
     "data": {
      "text/plain": [
       "DatetimeIndex(['2019-05-21', '2019-05-22', '2019-05-23', '2019-05-24',\n",
       "               '2019-05-25', '2019-05-26', '2019-05-27', '2019-05-28',\n",
       "               '2019-05-29', '2019-05-30'],\n",
       "              dtype='datetime64[ns]', freq='D')"
      ]
     },
     "execution_count": 42,
     "metadata": {},
     "output_type": "execute_result"
    }
   ],
   "source": [
    "#只传递一个起始或结束日期时，课用periods控制跨度\n",
    "pd.date_range(start='2019-05-21',periods=10)"
   ]
  },
  {
   "cell_type": "code",
   "execution_count": 43,
   "metadata": {},
   "outputs": [
    {
     "data": {
      "text/plain": [
       "DatetimeIndex(['2019-05-02', '2019-05-03', '2019-05-04', '2019-05-05',\n",
       "               '2019-05-06', '2019-05-07', '2019-05-08', '2019-05-09',\n",
       "               '2019-05-10', '2019-05-11', '2019-05-12', '2019-05-13',\n",
       "               '2019-05-14', '2019-05-15', '2019-05-16', '2019-05-17',\n",
       "               '2019-05-18', '2019-05-19', '2019-05-20', '2019-05-21'],\n",
       "              dtype='datetime64[ns]', freq='D')"
      ]
     },
     "execution_count": 43,
     "metadata": {},
     "output_type": "execute_result"
    }
   ],
   "source": [
    "pd.date_range(end='2019-05-21',periods=20)"
   ]
  },
  {
   "cell_type": "markdown",
   "metadata": {},
   "source": [
    "#### freq : 控制时间频率\n",
    "* D：天    \n",
    "* B：工作日的每天\n",
    "* H：小时\n",
    "* T或min：分钟\n",
    "* S：秒\n",
    "* M：日历日的月底日期\n",
    "* BM：工作日的月底日期\n",
    "* MS：日历日的月初日期\n",
    "* BMS：工作日的月初日期"
   ]
  },
  {
   "cell_type": "code",
   "execution_count": 48,
   "metadata": {},
   "outputs": [
    {
     "data": {
      "text/plain": [
       "DatetimeIndex(['2019-05-21 00:00:00', '2019-05-21 01:00:00',\n",
       "               '2019-05-21 02:00:00', '2019-05-21 03:00:00',\n",
       "               '2019-05-21 04:00:00', '2019-05-21 05:00:00',\n",
       "               '2019-05-21 06:00:00', '2019-05-21 07:00:00',\n",
       "               '2019-05-21 08:00:00', '2019-05-21 09:00:00',\n",
       "               '2019-05-21 10:00:00', '2019-05-21 11:00:00',\n",
       "               '2019-05-21 12:00:00', '2019-05-21 13:00:00',\n",
       "               '2019-05-21 14:00:00', '2019-05-21 15:00:00',\n",
       "               '2019-05-21 16:00:00', '2019-05-21 17:00:00',\n",
       "               '2019-05-21 18:00:00', '2019-05-21 19:00:00',\n",
       "               '2019-05-21 20:00:00', '2019-05-21 21:00:00',\n",
       "               '2019-05-21 22:00:00', '2019-05-21 23:00:00',\n",
       "               '2019-05-22 00:00:00'],\n",
       "              dtype='datetime64[ns]', freq='H')"
      ]
     },
     "execution_count": 48,
     "metadata": {},
     "output_type": "execute_result"
    }
   ],
   "source": [
    "pd.date_range('2019-05-21','2019-05-22',freq='H')"
   ]
  },
  {
   "cell_type": "code",
   "execution_count": 52,
   "metadata": {},
   "outputs": [
    {
     "data": {
      "text/plain": [
       "DatetimeIndex(['2019-01-31', '2019-02-28', '2019-03-29', '2019-04-30',\n",
       "               '2019-05-31', '2019-06-28', '2019-07-31', '2019-08-30',\n",
       "               '2019-09-30', '2019-10-31', '2019-11-29'],\n",
       "              dtype='datetime64[ns]', freq='BM')"
      ]
     },
     "execution_count": 52,
     "metadata": {},
     "output_type": "execute_result"
    }
   ],
   "source": [
    "pd.date_range('2019-01-01','2019-12-01',freq='BM')"
   ]
  },
  {
   "cell_type": "markdown",
   "metadata": {},
   "source": [
    "#### 频率和日期偏置"
   ]
  },
  {
   "cell_type": "code",
   "execution_count": 54,
   "metadata": {},
   "outputs": [
    {
     "data": {
      "text/plain": [
       "DatetimeIndex(['2019-05-21 00:00:00', '2019-05-21 04:00:00',\n",
       "               '2019-05-21 08:00:00', '2019-05-21 12:00:00',\n",
       "               '2019-05-21 16:00:00'],\n",
       "              dtype='datetime64[ns]', freq='4H')"
      ]
     },
     "execution_count": 54,
     "metadata": {},
     "output_type": "execute_result"
    }
   ],
   "source": [
    "from pandas.tseries.offsets import Hour,Minute\n",
    "#频率设为4小时的情况\n",
    "pd.date_range(start='2019-05-21',periods=5,freq='4H')"
   ]
  },
  {
   "cell_type": "code",
   "execution_count": 59,
   "metadata": {},
   "outputs": [
    {
     "data": {
      "text/plain": [
       "DatetimeIndex(['2019-05-21 06:00:00', '2019-05-21 07:30:00',\n",
       "               '2019-05-21 09:00:00', '2019-05-21 10:30:00',\n",
       "               '2019-05-21 12:00:00', '2019-05-21 13:30:00',\n",
       "               '2019-05-21 15:00:00', '2019-05-21 16:30:00'],\n",
       "              dtype='datetime64[ns]', freq='90T')"
      ]
     },
     "execution_count": 59,
     "metadata": {},
     "output_type": "execute_result"
    }
   ],
   "source": [
    "#多个偏置可以用加法组合\n",
    "pd.date_range(start='2019-05-21 06:00:00',periods=8,freq='1h30min')"
   ]
  },
  {
   "cell_type": "markdown",
   "metadata": {},
   "source": [
    "#### 重采样与频率转换\n",
    "```python\n",
    "Signature:\n",
    "ts.resample(\n",
    "    ['rule', 'how=None', 'axis=0', 'fill_method=None', 'closed=None', 'label=None', \"convention='start'\", 'kind=None', 'loffset=None', 'limit=None', 'base=0', 'on=None', 'level=None'],\n",
    ")\n",
    "```\n"
   ]
  },
  {
   "cell_type": "code",
   "execution_count": 69,
   "metadata": {},
   "outputs": [
    {
     "data": {
      "text/plain": [
       "2019-05-05    5\n",
       "2019-05-12    7\n",
       "2019-05-19    7\n",
       "2019-05-26    7\n",
       "2019-06-02    7\n",
       "2019-06-09    7\n",
       "2019-06-16    7\n",
       "2019-06-23    7\n",
       "2019-06-30    7\n",
       "Freq: W-SUN, dtype: int64"
      ]
     },
     "execution_count": 69,
     "metadata": {},
     "output_type": "execute_result"
    }
   ],
   "source": [
    "#将更高频率的数据聚合到低频率称向下采样\n",
    "#将低频率数据转换到高频率称向上采样\n",
    "#例如，将天数据向上采样为周数据\n",
    "rng = pd.date_range('2019-05-01','2019-06-30',freq='D')\n",
    "ts = pd.Series(np.random.randn(len(rng)),index=rng)\n",
    "ts.resample('W').count()"
   ]
  },
  {
   "cell_type": "markdown",
   "metadata": {},
   "source": [
    "#### 移动窗口函数"
   ]
  },
  {
   "cell_type": "code",
   "execution_count": 99,
   "metadata": {},
   "outputs": [
    {
     "data": {
      "text/plain": [
       "<matplotlib.axes._subplots.AxesSubplot at 0x183d3cd11d0>"
      ]
     },
     "execution_count": 99,
     "metadata": {},
     "output_type": "execute_result"
    },
    {
     "data": {
      "image/png": "[encoded data removed]",
      "text/plain": [
       "<Figure size 432x288 with 1 Axes>"
      ]
     },
     "metadata": {
      "needs_background": "light"
     },
     "output_type": "display_data"
    }
   ],
   "source": [
    "close_px_all = pd.read_csv('stock_px_2.csv',parse_dates=True,index_col=0)\n",
    "close_px = close_px_all[['AAPL','MSFT','XOM']]\n",
    "close_px = close_px.resample('B').ffill()\n",
    "close_px.AAPL.plot()\n",
    "#rolling算子,根据50天数据的滑动窗口分组的平均值来平滑数据\n",
    "close_px.AAPL.rolling(50).mean().plot()"
   ]
  },
  {
   "cell_type": "code",
   "execution_count": 100,
   "metadata": {},
   "outputs": [
    {
     "data": {
      "text/plain": [
       "<matplotlib.axes._subplots.AxesSubplot at 0x183d3e35668>"
      ]
     },
     "execution_count": 100,
     "metadata": {},
     "output_type": "execute_result"
    },
    {
     "data": {
      "image/png": "[encoded data removed]",
      "text/plain": [
       "<Figure size 432x288 with 1 Axes>"
      ]
     },
     "metadata": {
      "needs_background": "light"
     },
     "output_type": "display_data"
    }
   ],
   "source": [
    "#使用expanding算子计算扩展窗口\n",
    "appl_std250 = close_px.AAPL.rolling(250,min_periods=10).std()\n",
    "expanding_mean = appl_std250.expanding().mean()\n",
    "close_px.rolling(60).mean().plot(logy=True)"
   ]
  },
  {
   "cell_type": "code",
   "execution_count": null,
   "metadata": {},
   "outputs": [],
   "source": []
  }
 ],
 "metadata": {
  "kernelspec": {
   "display_name": "Python 3",
   "language": "python",
   "name": "python3"
  },
  "language_info": {
   "codemirror_mode": {
    "name": "ipython",
    "version": 3
   },
   "file_extension": ".py",
   "mimetype": "text/x-python",
   "name": "python",
   "nbconvert_exporter": "python",
   "pygments_lexer": "ipython3",
   "version": "3.7.1"
  },
  "latex_envs": {
   "LaTeX_envs_menu_present": true,
   "autoclose": false,
   "autocomplete": true,
   "bibliofile": "biblio.bib",
   "cite_by": "apalike",
   "current_citInitial": 1,
   "eqLabelWithNumbers": true,
   "eqNumInitial": 1,
   "hotkeys": {
    "equation": "Ctrl-E",
    "itemize": "Ctrl-I"
   },
   "labels_anchors": false,
   "latex_user_defs": false,
   "report_style_numbering": false,
   "user_envs_cfg": false
  }
 },
 "nbformat": 4,
 "nbformat_minor": 2
}
